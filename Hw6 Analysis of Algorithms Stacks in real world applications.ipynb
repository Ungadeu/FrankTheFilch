{
 "cells": [
  {
   "cell_type": "markdown",
   "metadata": {},
   "source": [
    "# Analysis of Algorithms\n",
    "\n",
    "   \n",
    "\n",
    "## Instructor\n",
    "\n",
    "    Dr. Fatima Boukari\n",
    "    Division: PEMaCS\n",
    "    \n",
    "    \n",
    "# Homework 6: "
   ]
  },
  {
   "cell_type": "markdown",
   "metadata": {},
   "source": [
    "# STACK"
   ]
  },
  {
   "cell_type": "markdown",
   "metadata": {},
   "source": [
    "### Implementing a Stack Using a Python List"
   ]
  },
  {
   "cell_type": "code",
   "execution_count": 49,
   "metadata": {},
   "outputs": [],
   "source": [
    "class ArraysStack:\n",
    "    def __init__(self):\n",
    "        self.data=[]   \n",
    "    def __len__(self):\n",
    "        return len(self.data)\n",
    "    def is_empty(self):\n",
    "        return len(self.data)==0\n",
    "    def push(self,val):\n",
    "        self.data.append(val)\n",
    "    def top(self):\n",
    "        if self.is_empty():\n",
    "            print(\"stack is empty\")\n",
    "            return\n",
    "        return(self.data[-1])\n",
    "    def pop(self):\n",
    "        if self.is_empty():\n",
    "            print(\"stack is Empty\")\n",
    "            return\n",
    "        return (self.data.pop())\n",
    "    \n",
    "    \n",
    "        "
   ]
  },
  {
   "cell_type": "code",
   "execution_count": 51,
   "metadata": {},
   "outputs": [],
   "source": [
    "s=ArraysStack()"
   ]
  },
  {
   "cell_type": "code",
   "execution_count": 52,
   "metadata": {},
   "outputs": [
    {
     "data": {
      "text/plain": [
       "True"
      ]
     },
     "execution_count": 52,
     "metadata": {},
     "output_type": "execute_result"
    }
   ],
   "source": [
    "s.is_empty()"
   ]
  },
  {
   "cell_type": "code",
   "execution_count": 53,
   "metadata": {},
   "outputs": [
    {
     "name": "stdout",
     "output_type": "stream",
     "text": [
      "stack is empty\n"
     ]
    }
   ],
   "source": [
    "s.top()"
   ]
  },
  {
   "cell_type": "code",
   "execution_count": 54,
   "metadata": {},
   "outputs": [],
   "source": [
    "s.push(6)"
   ]
  },
  {
   "cell_type": "code",
   "execution_count": 55,
   "metadata": {},
   "outputs": [],
   "source": [
    "s.push(5)\n"
   ]
  },
  {
   "cell_type": "code",
   "execution_count": 56,
   "metadata": {},
   "outputs": [
    {
     "data": {
      "text/plain": [
       "2"
      ]
     },
     "execution_count": 56,
     "metadata": {},
     "output_type": "execute_result"
    }
   ],
   "source": [
    "s.__len__()"
   ]
  },
  {
   "cell_type": "code",
   "execution_count": 57,
   "metadata": {},
   "outputs": [
    {
     "data": {
      "text/plain": [
       "5"
      ]
     },
     "execution_count": 57,
     "metadata": {},
     "output_type": "execute_result"
    }
   ],
   "source": [
    "s.pop()"
   ]
  },
  {
   "cell_type": "markdown",
   "metadata": {},
   "source": [
    "## Problem 1. Valid Arithmetic expressions: \n",
    "Using the stack implementation provided in the recitation or in this notebook. Write a function to verify whether an arithmetic expression containing different open and closed delimiters is balanced or not. This code allows and checks only thr following delimiters: (,) and [ ,].\n",
    "\n",
    "Hint: Given string of characters. we read each character: \n",
    "   if it's an open bracket  ( or [ then push it to the stack; \n",
    "   if it's a closing bracket ) or ] pop the top one from the stack and compare whether the popped element is the expected opening bracket. if not the expected one then return false. At the end of the string, the stack should be empty, if yes then return true else return false.\n",
    "   "
   ]
  },
  {
   "cell_type": "code",
   "execution_count": null,
   "metadata": {},
   "outputs": [],
   "source": [
    "# Insert your code here"
   ]
  },
  {
   "cell_type": "code",
   "execution_count": null,
   "metadata": {},
   "outputs": [],
   "source": [
    "# test cases note that { delimiters are not considered here\n",
    "expressionl = \"{(a+b)(c*d)[x^7](((a/4)+90/8)) has matching delimiters based on our specific problem\"\n",
    "# expression1 should return true\n",
    "expression2=  \"(45+a^2)(c*d)}[x^7-14](((a/4)+90)/8)  has matching brackets?     \"\n",
    "# expression2 should return true\n",
    "expression3=   \"){(a+b)(c*d)}[x^7(((a/4)+90)/8) has matching brackets?   \"\n",
    " # expression3 should return false\n",
    "expression4=   \"{(a+b)(c*d)}[x^7((](a/4)+90)/8) has matching brackets?   \"\n",
    " # expression4 should return false\n",
    "expression5=   \"{(a+b-c*d)[x^7}]\"\n",
    "# expression5 should return false\n",
    "expression6= \"((( )(( )){([( )]){}}))\"\n",
    "# expression2 should return true\n",
    "expression7=\")(( )){([( )])}\"\n",
    "# expression5 should return false"
   ]
  },
  {
   "cell_type": "markdown",
   "metadata": {},
   "source": [
    "### Avoiding Amortization by Reserving Capacity"
   ]
  },
  {
   "cell_type": "code",
   "execution_count": 38,
   "metadata": {},
   "outputs": [],
   "source": [
    "class ArrayStack:\n",
    "    def __init__(self,n):\n",
    "        self.data=[] \n",
    "        self.count=0\n",
    "        self.length=n\n",
    "    def size(self):\n",
    "        return self.count\n",
    "    def is_empty(self):\n",
    "        if self.count==0:\n",
    "            return True\n",
    "        else:\n",
    "            return False\n",
    "    def push(self,val):\n",
    "        if self.count==self.length:\n",
    "            print(\"stack is full\")\n",
    "        else:\n",
    "            self.data.append(val)\n",
    "            self.count+=1\n",
    "    def top(self):\n",
    "        if self.is_empty():\n",
    "            print(\"stack is empty\")\n",
    "            return\n",
    "        return(self.data[-1])\n",
    "    def pop(self):\n",
    "        if self.is_empty():\n",
    "            print(\"stack is Empty\")\n",
    "            return\n",
    "        return (self.data.pop())"
   ]
  },
  {
   "cell_type": "code",
   "execution_count": 39,
   "metadata": {},
   "outputs": [],
   "source": [
    "s=ArrayStack(3)"
   ]
  },
  {
   "cell_type": "code",
   "execution_count": 40,
   "metadata": {},
   "outputs": [
    {
     "data": {
      "text/plain": [
       "True"
      ]
     },
     "execution_count": 40,
     "metadata": {},
     "output_type": "execute_result"
    }
   ],
   "source": [
    "s.is_empty()"
   ]
  },
  {
   "cell_type": "code",
   "execution_count": 41,
   "metadata": {},
   "outputs": [
    {
     "name": "stdout",
     "output_type": "stream",
     "text": [
      "stack is empty\n"
     ]
    }
   ],
   "source": [
    "s.top()"
   ]
  },
  {
   "cell_type": "code",
   "execution_count": 42,
   "metadata": {},
   "outputs": [
    {
     "name": "stdout",
     "output_type": "stream",
     "text": [
      "stack is Empty\n"
     ]
    }
   ],
   "source": [
    "s.pop()"
   ]
  },
  {
   "cell_type": "code",
   "execution_count": 43,
   "metadata": {},
   "outputs": [],
   "source": [
    "s.push(1)"
   ]
  },
  {
   "cell_type": "code",
   "execution_count": 44,
   "metadata": {},
   "outputs": [],
   "source": [
    "s.push(2)"
   ]
  },
  {
   "cell_type": "code",
   "execution_count": 45,
   "metadata": {},
   "outputs": [
    {
     "data": {
      "text/plain": [
       "2"
      ]
     },
     "execution_count": 45,
     "metadata": {},
     "output_type": "execute_result"
    }
   ],
   "source": [
    "s.size()"
   ]
  },
  {
   "cell_type": "code",
   "execution_count": 46,
   "metadata": {},
   "outputs": [],
   "source": [
    "s.push(3)"
   ]
  },
  {
   "cell_type": "code",
   "execution_count": 47,
   "metadata": {},
   "outputs": [
    {
     "name": "stdout",
     "output_type": "stream",
     "text": [
      "stack is full\n"
     ]
    }
   ],
   "source": [
    "s.push(4)"
   ]
  },
  {
   "cell_type": "code",
   "execution_count": 48,
   "metadata": {},
   "outputs": [
    {
     "data": {
      "text/plain": [
       "[1, 2, 3]"
      ]
     },
     "execution_count": 48,
     "metadata": {},
     "output_type": "execute_result"
    }
   ],
   "source": [
    "s.data"
   ]
  },
  {
   "cell_type": "markdown",
   "metadata": {},
   "source": [
    "## Problem 2: \n",
    "Determine if a given string is a palindrome using a stack."
   ]
  },
  {
   "cell_type": "code",
   "execution_count": null,
   "metadata": {},
   "outputs": [],
   "source": [
    "# Your code here"
   ]
  },
  {
   "cell_type": "markdown",
   "metadata": {},
   "source": [
    "## Problem 3: backtracking actions using stack\n",
    "Implement a backtracking using a stack, where the user can input actions to do added as string texts  and then can backtrack by popping last action...\n",
    "Example: \n",
    "actions.add_action(\"right\")\n",
    "actions.add_action(\"left\")\n",
    "print(actions.get_actions())  # Output: \"right left\"\n",
    "actions.back()\n",
    "print(actions.get_actions())  # Output: \"right\"\n",
    "\n",
    "# Write a program that uses this class and puts the following actions in the stack: right left left right right left\n",
    "# then prints the backtracking of all_actions and print them to the user. \n"
   ]
  },
  {
   "cell_type": "code",
   "execution_count": null,
   "metadata": {},
   "outputs": [],
   "source": [
    "# Using this class write a program that \n",
    "class Textactions:\n",
    "    def __init__(self):\n",
    "        self.action = \"\"\n",
    "        self.all_actions = []\n",
    "\n",
    "    def add_action(self, new_action):\n",
    "        self.all_actions.append(self.action)  # Save current state\n",
    "        self.action += new_action       # new_action is a text\n",
    "\n",
    "    def back(self):\n",
    "        if self.allactions:\n",
    "            self.action = self.all_actions.pop()  # Revert to the last saved state\n",
    "\n",
    "    def get_actions(self):\n",
    "        return self.action\n",
    "\n",
    "\n"
   ]
  }
 ],
 "metadata": {
  "kernelspec": {
   "display_name": "Python 3",
   "language": "python",
   "name": "python3"
  },
  "language_info": {
   "codemirror_mode": {
    "name": "ipython",
    "version": 3
   },
   "file_extension": ".py",
   "mimetype": "text/x-python",
   "name": "python",
   "nbconvert_exporter": "python",
   "pygments_lexer": "ipython3",
   "version": "3.6.7"
  }
 },
 "nbformat": 4,
 "nbformat_minor": 2
}
